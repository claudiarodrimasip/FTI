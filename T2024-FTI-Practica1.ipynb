{
 "cells": [
  {
   "cell_type": "code",
   "execution_count": 18,
   "metadata": {},
   "outputs": [],
   "source": []
  },
  {
   "cell_type": "code",
   "execution_count": 19,
   "metadata": {},
   "outputs": [
    {
     "name": "stdout",
     "output_type": "stream",
     "text": [
      "True\n",
      "True\n",
      "False\n"
     ]
    }
   ],
   "source": [
    "def UAB_divisible_by_7(a):\n",
    "    \n",
    "    while (a > 70):\n",
    "        #Agafar la xifra de les unitats en u\n",
    "        u = a % 10\n",
    "    \n",
    "        #Eliminar les unitats (u)\n",
    "        a = a // 10\n",
    "        #A a li restem 2·u\n",
    "        a -= 2 * u\n",
    "    \n",
    "    return a % 7 == 0\n",
    "    \n",
    "\n",
    "print(UAB_divisible_by_7(441)) # True\n",
    "print(UAB_divisible_by_7(833)) # True\n",
    "print(UAB_divisible_by_7(318)) # False"
   ]
  },
  {
   "cell_type": "code",
   "execution_count": 20,
   "metadata": {},
   "outputs": [
    {
     "name": "stdout",
     "output_type": "stream",
     "text": [
      "True\n",
      "True\n",
      "False\n"
     ]
    }
   ],
   "source": [
    "def UAB_divisible_by_13(a):\n",
    "\n",
    "    while (a >= 100):\n",
    "        #Agafar la xifra de les unitats en u\n",
    "        u = a % 10\n",
    "    \n",
    "        #Eliminar les unitats (u)\n",
    "        a = a // 10\n",
    "        #A a li restem 2·u\n",
    "        a -= 9 * u\n",
    "    \n",
    "    return a % 13 == 0\n",
    "    \n",
    "\n",
    "    #### IMPLEMENTATION GOES HERE ####\n",
    "\n",
    "print(UAB_divisible_by_13(793)) # True\n",
    "print(UAB_divisible_by_13(598)) # True\n",
    "print(UAB_divisible_by_13(921)) # False\n"
   ]
  },
  {
   "cell_type": "code",
   "execution_count": 21,
   "metadata": {},
   "outputs": [
    {
     "name": "stdout",
     "output_type": "stream",
     "text": [
      "[24, -8, 11]\n",
      "24\n",
      "[13, -54, 65]\n",
      "13\n"
     ]
    }
   ],
   "source": [
    "def UAB_extended_gcd(m,n):\n",
    "    \n",
    "    #mcd (m,n) = d = am + bn\n",
    "    \n",
    "    nouM = m\n",
    "    nouN = n\n",
    "    \n",
    "    bezout11= 1\n",
    "    bezout12= 0\n",
    "    bezout11aux= 0\n",
    "    bezout12aux= 0\n",
    "    \n",
    "    bezout21= 0\n",
    "    bezout22= 1\n",
    "    bezout21aux= 0\n",
    "    bezout22aux= 0\n",
    "    \n",
    "    while ( nouN != 0 ):\n",
    "        quocient = nouM // nouN\n",
    "        resta = nouM % nouN\n",
    "        \n",
    "        nouM, nouN = nouN, resta\n",
    "        \n",
    "        bezout11,bezout12 = bezout12, bezout11 - quocient * bezout12\n",
    "        bezout21, bezout22 = bezout22, bezout21 - quocient * bezout22 \n",
    "\n",
    "            \n",
    "\n",
    "    mcd = nouM\n",
    "    return [mcd, bezout11, bezout21]\n",
    "    \n",
    "    \n",
    "\n",
    "llista = UAB_extended_gcd(624,456)\n",
    "print (llista) # [24, -8, 11]\n",
    "print (llista[1]*624+llista[2]*456) # 24\n",
    "\n",
    "llista = UAB_extended_gcd(2613,2171)\n",
    "print (llista) # [13, -54, 65]\n",
    "print (llista[1]*2613+llista[2]*2171) # 13\n"
   ]
  },
  {
   "cell_type": "code",
   "execution_count": 22,
   "metadata": {},
   "outputs": [
    {
     "name": "stdout",
     "output_type": "stream",
     "text": [
      "7\n"
     ]
    }
   ],
   "source": [
    "def UAB_inverse_modulo(a,p):\n",
    "\n",
    "    llista = UAB_extended_gcd(a, p)\n",
    "    \n",
    "    #llista = [mcd, bezout1, bezout2]\n",
    "    #Bezout = (-1)^n * rn = a * bezout1 - p * bezout2\n",
    "    #Inversa : com es Zp --> p = 0\n",
    "    #(-1)^n * rn = a * bezout1\n",
    "    # 1 = a * bezout1\n",
    "    \n",
    "    #rn és el mcd\n",
    "    rn, Qn, Pn = llista\n",
    "    \n",
    "     #Invers: (a * invers // p) ha de donar resta 1\n",
    "    \n",
    "    #El nombre Qn entre p, ha de donar de resta l'invers de a\n",
    "    # Ex. 7 (mod 5) --> 7 % 5 = 2\n",
    "    \n",
    "    return Qn % p\n",
    "    \n",
    "    \n",
    "    \n",
    "    \n",
    "\n",
    "print (UAB_inverse_modulo(574,13)) # 7"
   ]
  },
  {
   "cell_type": "code",
   "execution_count": 42,
   "metadata": {
    "scrolled": true
   },
   "outputs": [
    {
     "name": "stdout",
     "output_type": "stream",
     "text": [
      "[x + 1, x + 2, 2*x + 1, 2*x + 2]\n",
      "[x + 1, 2*x + 2, x^2 + 2, x^2 + x, x^2 + 2*x + 1, x^2 + 2*x + 2, 2*x^2 + 1, 2*x^2 + x + 1, 2*x^2 + x + 2, 2*x^2 + 2*x]\n"
     ]
    }
   ],
   "source": [
    "def UAB_zero_divisors(mx):\n",
    "    \n",
    "    #Divisors de zero: dos nombres diferents de zero multiplicats donen zero\n",
    "    Z3X.<x>=PolynomialRing(GF(3))\n",
    "    \n",
    "    #Llista dels divisors de zero\n",
    "    divisors_de_zero = []\n",
    "    \n",
    "    #Hem de trobar el grau de mx\n",
    "    grau = mx.degree()\n",
    "    \n",
    "    llista = []\n",
    "    #llista = UAB_extended_gcd(mx, 3)\n",
    "    #print(llista[0])\n",
    "    \n",
    "    \n",
    "    #Trobar tots els polinomis possibles possibles fins al grau donat - 1\n",
    "    \n",
    "    for p in Z3X.polynomials(max_degree = grau - 1):\n",
    "        llista = []\n",
    "        llista = UAB_extended_gcd(p, mx)\n",
    " \n",
    "        if p != 0:\n",
    "            if (((mx * p)% mx == 0) and mx.gcd(p).degree() > 0):\n",
    "                divisors_de_zero.append(p)\n",
    "\n",
    "        \n",
    "\n",
    "    return divisors_de_zero\n",
    "    \n",
    "    \n",
    "\n",
    "\n",
    "# Tests:\n",
    "\n",
    "Z3X.<x>=PolynomialRing(GF(3))\n",
    "\n",
    "mx=Z3X(2*x^2 + 1)\n",
    "print (UAB_zero_divisors(mx))\n",
    "# [x + 1, x + 2, 2*x + 1, 2*x + 2]\n",
    "\n",
    "mx=Z3X(2*x^3 + 2*x + 1)\n",
    "print (UAB_zero_divisors(mx))\n",
    "# [x + 1, 2*x + 2, x^2 + 2, x^2 + x, x^2 + 2*x + 1, x^2 + 2*x + 2,\n",
    "#  2*x^2 + 1, 2*x^2 + x + 1, 2*x^2 + x + 2, 2*x^2 + 2*x]\n"
   ]
  },
  {
   "cell_type": "code",
   "execution_count": 46,
   "metadata": {},
   "outputs": [
    {
     "name": "stdout",
     "output_type": "stream",
     "text": [
      "True\n",
      "False\n"
     ]
    }
   ],
   "source": [
    "def UAB_is_field(mx):\n",
    "    \n",
    "    #Saber si té divisors de zero\n",
    "    if UAB_zero_divisors(mx):\n",
    "        return False\n",
    "\n",
    "    es_irreductible = mx.is_irreducible()\n",
    "     \n",
    "    return es_irreductible\n",
    "\n",
    "\n",
    "# Tests:\n",
    "\n",
    "Z3X.<x>=PolynomialRing(GF(3))\n",
    "\n",
    "mx=Z3X(2*x^3 + x^2 + 2)\n",
    "print (UAB_is_field(mx)) # True\n",
    "\n",
    "mx=Z3X(2*x^3 + 2*x + 1)\n",
    "print (UAB_is_field(mx)) # False\n"
   ]
  },
  {
   "cell_type": "code",
   "execution_count": null,
   "metadata": {},
   "outputs": [],
   "source": []
  }
 ],
 "metadata": {
  "kernelspec": {
   "display_name": "SageMath 9.5",
   "language": "sage",
   "name": "sagemath"
  },
  "language_info": {
   "codemirror_mode": {
    "name": "ipython",
    "version": 3
   },
   "file_extension": ".py",
   "mimetype": "text/x-python",
   "name": "python",
   "nbconvert_exporter": "python",
   "pygments_lexer": "ipython3",
   "version": "3.11.2"
  }
 },
 "nbformat": 4,
 "nbformat_minor": 4
}
